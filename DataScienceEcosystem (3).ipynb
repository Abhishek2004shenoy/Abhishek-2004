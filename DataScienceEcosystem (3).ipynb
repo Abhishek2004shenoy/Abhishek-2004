{
  "metadata": {
    "language_info": {
      "codemirror_mode": {
        "name": "python",
        "version": 3
      },
      "file_extension": ".py",
      "mimetype": "text/x-python",
      "name": "python",
      "nbconvert_exporter": "python",
      "pygments_lexer": "ipython3",
      "version": "3.8"
    },
    "kernelspec": {
      "name": "python",
      "display_name": "Python (Pyodide)",
      "language": "python"
    }
  },
  "nbformat_minor": 4,
  "nbformat": 4,
  "cells": [
    {
      "cell_type": "markdown",
      "source": "# Data Science Tools and Ecosystem",
      "metadata": {}
    },
    {
      "cell_type": "markdown",
      "source": " In this note,Data Science Tools and Ecosystem are summarized",
      "metadata": {}
    },
    {
      "cell_type": "markdown",
      "source": "Some of the popular languages that Data Scientists use are:\n\n 1. Python\n 2. R\n 3. SQL\n 4. C++\n 5. Java etc..;",
      "metadata": {}
    },
    {
      "cell_type": "markdown",
      "source": "Some of the commonly used libraries used by data scientist include:\n    \n 1. TensorFlow.\n 2. NumPy.\n 3. SciPy.\n 4. Pandas.\n 5. Matpotlib.\n 6. Keras.\n 7. SciKit-Learn.\n 8. PyTorch. etc..;\n    ",
      "metadata": {}
    },
    {
      "cell_type": "markdown",
      "source": "|Data Science Tools|\n|---|\n|SAS|\n|Apache Hadoop|\n|TensorFlow|",
      "metadata": {}
    },
    {
      "cell_type": "markdown",
      "source": "### Below are a few examples of evaluating arithmetic expressions in python",
      "metadata": {}
    },
    {
      "cell_type": "code",
      "source": "#This is a common arithmetic example to multiply and then add integers\n(3*4)+5",
      "metadata": {
        "trusted": true
      },
      "execution_count": 3,
      "outputs": [
        {
          "execution_count": 3,
          "output_type": "execute_result",
          "data": {
            "text/plain": "17"
          },
          "metadata": {}
        }
      ]
    },
    {
      "cell_type": "code",
      "source": "#This will convert 200 minutes to hours by dividing by 60\n200/60",
      "metadata": {
        "trusted": true
      },
      "execution_count": 4,
      "outputs": [
        {
          "execution_count": 4,
          "output_type": "execute_result",
          "data": {
            "text/plain": "3.3333333333333335"
          },
          "metadata": {}
        }
      ]
    },
    {
      "cell_type": "markdown",
      "source": "__Objective__\n* List popular languages for Data Science\n* List popular libraries for Data Science\n* List of Well known Data S cience Tools\n* How to Provide comments in the cell",
      "metadata": {}
    },
    {
      "cell_type": "markdown",
      "source": "## Author\nAbhishek Shenoy",
      "metadata": {}
    }
  ]
}